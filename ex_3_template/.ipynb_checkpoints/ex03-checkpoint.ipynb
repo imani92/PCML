{
 "cells": [
  {
   "cell_type": "code",
   "execution_count": 126,
   "metadata": {
    "collapsed": false
   },
   "outputs": [
    {
     "name": "stdout",
     "output_type": "stream",
     "text": [
      "The autoreload extension is already loaded. To reload it, use:\n",
      "  %reload_ext autoreload\n"
     ]
    }
   ],
   "source": [
    "# Useful starting lines\n",
    "%matplotlib inline\n",
    "import numpy as np\n",
    "import matplotlib.pyplot as plt\n",
    "import grid_search \n",
    "%load_ext autoreload\n",
    "%autoreload 2"
   ]
  },
  {
   "cell_type": "markdown",
   "metadata": {},
   "source": [
    "# Least squares and linear basis functions models\n",
    "## Least squares"
   ]
  },
  {
   "cell_type": "code",
   "execution_count": 127,
   "metadata": {
    "collapsed": true
   },
   "outputs": [],
   "source": [
    "def compute_loss(y, tx, w):\n",
    "    \"\"\"Calculate the loss.\n",
    "\n",
    "    You can calculate the loss using mse or mae.\n",
    "    \"\"\"\n",
    "    # ***************************************************\n",
    "    # INSERT YOUR CODE HERE\n",
    "    # TODO: compute loss by MSE / MAE\n",
    "    e=y-np.dot(tx,w);\n",
    "    loss = 1/(2*len(tx))*np.dot(e,e)\n",
    "    # ***************************************************\n",
    "    return loss"
   ]
  },
  {
   "cell_type": "code",
   "execution_count": 128,
   "metadata": {
    "collapsed": true
   },
   "outputs": [],
   "source": [
    "def least_squares(y, tx):\n",
    "    \"\"\"calculate the least squares solution.\"\"\"\n",
    "    # ***************************************************\n",
    "    # INSERT YOUR CODE HERE\n",
    "    # least squares: TODO\n",
    "    XtX = np.dot(tx.T, tx)\n",
    "    XtX_1 = np.linalg.inv(XtX)\n",
    "    XtX_1Xt = np.dot(XtX_1,tx.T)\n",
    "    \n",
    "    opt_w = np.dot(XtX_1Xt, y)\n",
    "    mse = compute_loss(y, tx, opt_w)\n",
    "    # returns mse, and optimal weights\n",
    "    return mse, opt_w\n",
    "    # ***************************************************"
   ]
  },
  {
   "cell_type": "markdown",
   "metadata": {},
   "source": [
    "### Load the data\n",
    "Here we will reuse the dataset `height_weight_genders.csv` from previous exercise section to check the correctness of your implementation. Please compare it with your previous result."
   ]
  },
  {
   "cell_type": "code",
   "execution_count": 131,
   "metadata": {
    "collapsed": false
   },
   "outputs": [
    {
     "name": "stdout",
     "output_type": "stream",
     "text": [
      "15.3858878688\n",
      "[ 73.293922    13.47971243]\n",
      "18.7935410195\n",
      "71.4285714286 15.306122449\n"
     ]
    }
   ],
   "source": [
    "from helpers import *\n",
    "def test_your_least_squares():\n",
    "    height, weight, gender = load_data_from_ex02(sub_sample=False, add_outlier=False)\n",
    "    x, mean_x, std_x = standardize(height)\n",
    "    y, tx = build_model_data(x, weight)\n",
    "    # ***************************************************\n",
    "    # INSERT YOUR CODE HERE\n",
    "    # least square or grid search: TODO\n",
    "    # this code should compare the optimal weights obtained \n",
    "    # by least squares vs. grid search\n",
    "    mse_ls, w_ls = least_squares(y, tx)\n",
    "    print(mse_ls)\n",
    "    print(w_ls)\n",
    "    # Grid search\n",
    "    grid_w0, grid_w1 = grid_search.generate_w(num_intervals=50)\n",
    "    grid_losses = grid_search.grid_search(y, tx, grid_w0, grid_w1)\n",
    "    loss_star, w0_star, w1_star = grid_search.get_best_parameters(grid_w0, grid_w1, grid_losses)\n",
    "    print(loss_star)\n",
    "    print(w0_star, w1_star)\n",
    "    \n",
    "    # ***************************************************\n",
    "\n",
    "test_your_least_squares()"
   ]
  },
  {
   "cell_type": "markdown",
   "metadata": {},
   "source": [
    "## Least squares with a linear basis function model\n",
    "Start from this section, we will use the dataset `dataEx3.csv`.\n",
    "\n",
    "### Implement polynomial basis functions"
   ]
  },
  {
   "cell_type": "code",
   "execution_count": 132,
   "metadata": {
    "collapsed": false,
    "scrolled": true
   },
   "outputs": [
    {
     "name": "stdout",
     "output_type": "stream",
     "text": [
      "shape of x (50,)\n",
      "shape of y (50,)\n"
     ]
    }
   ],
   "source": [
    "# load dataset\n",
    "x, y = load_data()\n",
    "print(\"shape of x {}\".format(x.shape))\n",
    "print(\"shape of y {}\".format(y.shape))"
   ]
  },
  {
   "cell_type": "code",
   "execution_count": 133,
   "metadata": {
    "collapsed": false
   },
   "outputs": [],
   "source": [
    "def build_poly(x, degree):\n",
    "    \"\"\"polynomial basis functions for input data x, for j=0 up to j=degree.\"\"\"\n",
    "    # ***************************************************\n",
    "    # INSERT YOUR CODE HERE\n",
    "    # polynomial basis function: TODO\n",
    "    # this function should return the matrix formed\n",
    "    # by applying the polynomial basis to the input data\n",
    "    poly = np.zeros([len(x), degree+1])\n",
    "    for j in range(degree+1):\n",
    "        poly[:,j] = pow(x,j)\n",
    "    # ***************************************************\n",
    "    return poly"
   ]
  },
  {
   "cell_type": "code",
   "execution_count": 134,
   "metadata": {
    "collapsed": false
   },
   "outputs": [
    {
     "name": "stdout",
     "output_type": "stream",
     "text": [
      "[ 1.  2.  3.  4.]\n",
      "[  1.   4.   9.  16.]\n"
     ]
    },
    {
     "data": {
      "text/plain": [
       "array([[  1.,   1.,   1.,   1.],\n",
       "       [  1.,   2.,   4.,   8.],\n",
       "       [  1.,   3.,   9.,  27.],\n",
       "       [  1.,   4.,  16.,  64.]])"
      ]
     },
     "execution_count": 134,
     "metadata": {},
     "output_type": "execute_result"
    }
   ],
   "source": [
    "a = np.array([1., 2., 3., 4.])\n",
    "print(a)\n",
    "print(pow(a,2))\n",
    "build_poly(a,3)"
   ]
  },
  {
   "cell_type": "markdown",
   "metadata": {},
   "source": [
    "Let us play with polynomial regression. Note that we will use your implemented function `compute_mse`. Please copy and paste your implementation from exercise02."
   ]
  },
  {
   "cell_type": "code",
   "execution_count": 135,
   "metadata": {
    "collapsed": true
   },
   "outputs": [],
   "source": [
    "def compute_loss(y, tx, w):\n",
    "    \"\"\"Calculate the loss.\n",
    "\n",
    "    You can calculate the loss using mse or mae.\n",
    "    \"\"\"\n",
    "    # ***************************************************\n",
    "    # INSERT YOUR CODE HERE\n",
    "    # TODO: compute loss by MSE / MAE\n",
    "    e=y-np.dot(tx,w);\n",
    "    loss = 1/(2*len(tx))*np.dot(e,e)\n",
    "    # ***************************************************\n",
    "    return loss"
   ]
  },
  {
   "cell_type": "code",
   "execution_count": 136,
   "metadata": {
    "collapsed": false
   },
   "outputs": [
    {
     "name": "stdout",
     "output_type": "stream",
     "text": [
      "Processing 1th experiment, degree=1, rmse=0.6273904957645272\n",
      "Processing 2th experiment, degree=3, rmse=0.26004170553867384\n",
      "Processing 3th experiment, degree=7, rmse=0.2517434190907973\n",
      "Processing 4th experiment, degree=12, rmse=0.42109916291016664\n"
     ]
    },
    {
     "data": {
      "image/png": "[encoded data removed]",
      "text/plain": [
       "<matplotlib.figure.Figure at 0x11129e2b0>"
      ]
     },
     "metadata": {},
     "output_type": "display_data"
    }
   ],
   "source": [
    "from plots import *\n",
    "\n",
    "def polynomial_regression():\n",
    "    \"\"\"Constructing the polynomial basis function expansion of the data,\n",
    "       and then running least squares regression.\"\"\"\n",
    "    # define parameters\n",
    "    degrees = [1, 3, 7, 12]\n",
    "    \n",
    "    # define the structure of figure\n",
    "    num_row = 2\n",
    "    num_col = 2\n",
    "    f, axs = plt.subplots(num_row, num_col)\n",
    "\n",
    "    for ind, degree in enumerate(degrees):\n",
    "        # ***************************************************\n",
    "        # form the data to do polynomial regression.: TODO\n",
    "        phi = build_poly(x, degree)\n",
    "        # ***************************************************\n",
    "        \n",
    "        # ***************************************************\n",
    "        # least square and calculate rmse: TODO\n",
    "        mse, weight = least_squares(y, phi)\n",
    "        rmse = np.sqrt(2*mse)\n",
    "        # ***************************************************\n",
    "\n",
    "        print(\"Processing {i}th experiment, degree={d}, rmse={loss}\".format(\n",
    "              i=ind + 1, d=degree, loss=rmse))\n",
    "        # plot fit\n",
    "        plot_fitted_curve(\n",
    "            y, x, weight, degree, axs[ind // num_col][ind % num_col])\n",
    "    plt.tight_layout()\n",
    "    plt.savefig(\"visualize_polynomial_regression\")\n",
    "    plt.show()\n",
    "\n",
    "\n",
    "polynomial_regression()"
   ]
  },
  {
   "cell_type": "markdown",
   "metadata": {},
   "source": [
    "# Evaluating model predication performance\n",
    "\n",
    "Let us show the train and test splits for various polynomial degrees. First of all, please fill in the function `split_data()`"
   ]
  },
  {
   "cell_type": "code",
   "execution_count": 137,
   "metadata": {
    "collapsed": true
   },
   "outputs": [],
   "source": [
    "def split_data(x, y, ratio, seed=1):\n",
    "    \"\"\"split the dataset based on the split ratio.\"\"\"\n",
    "    # set seed\n",
    "    np.random.seed(seed)\n",
    "    np.random.shuffle(x)\n",
    "    np.random.shuffle(y)\n",
    "    # ***************************************************\n",
    "    # split the data based on the given ratio: TODO\n",
    "    x_split1 = x[0:round(ratio*len(x))]\n",
    "    y_split1 = y[0:round(ratio*len(y))]\n",
    "    \n",
    "    x_split2 = x[(round(ratio*len(x))):len(x)]\n",
    "    y_split2 = y[(round(ratio*len(y))):len(y)]\n",
    "    # ***************************************************\n",
    "    return x_split1,y_split1,x_split2,y_split2"
   ]
  },
  {
   "cell_type": "code",
   "execution_count": 138,
   "metadata": {
    "collapsed": false
   },
   "outputs": [
    {
     "data": {
      "text/plain": [
       "(array([4, 3, 1]), array([2, 6, 4]), array([2]), array([8]))"
      ]
     },
     "execution_count": 138,
     "metadata": {},
     "output_type": "execute_result"
    }
   ],
   "source": [
    "a = np.array([1, 2, 3, 4])\n",
    "b = np.array([2, 4, 6, 8])\n",
    "ratio = 0.8\n",
    "split_data(a, b, ratio, seed=1)"
   ]
  },
  {
   "cell_type": "markdown",
   "metadata": {},
   "source": [
    "Then, test your `split_data` function below."
   ]
  },
  {
   "cell_type": "code",
   "execution_count": 161,
   "metadata": {
    "collapsed": false
   },
   "outputs": [
    {
     "name": "stdout",
     "output_type": "stream",
     "text": [
      "size of training:(45,)\n",
      "size of testing:(5,) \n",
      "proportion=0.9, degree=1, Training RMSE=0.692, Testing RMSE=0.852\n",
      "\n",
      "size of training:(45,)\n",
      "size of testing:(5,) \n",
      "proportion=0.9, degree=3, Training RMSE=0.715, Testing RMSE=0.632\n",
      "\n",
      "size of training:(45,)\n",
      "size of testing:(5,) \n",
      "proportion=0.9, degree=7, Training RMSE=0.684, Testing RMSE=0.834\n",
      "\n",
      "size of training:(45,)\n",
      "size of testing:(5,) \n",
      "proportion=0.9, degree=12, Training RMSE=0.636, Testing RMSE=1.217\n",
      "\n",
      "\n",
      "\n",
      "size of training:(25,)\n",
      "size of testing:(25,) \n",
      "proportion=0.5, degree=1, Training RMSE=0.652, Testing RMSE=0.769\n",
      "\n",
      "size of training:(25,)\n",
      "size of testing:(25,) \n",
      "proportion=0.5, degree=3, Training RMSE=0.605, Testing RMSE=0.826\n",
      "\n",
      "size of training:(25,)\n",
      "size of testing:(25,) \n",
      "proportion=0.5, degree=7, Training RMSE=0.677, Testing RMSE=0.899\n",
      "\n",
      "size of training:(25,)\n",
      "size of testing:(25,) \n",
      "proportion=0.5, degree=12, Training RMSE=0.572, Testing RMSE=1.084\n",
      "\n",
      "\n",
      "\n",
      "size of training:(5,)\n",
      "size of testing:(45,) \n",
      "proportion=0.1, degree=1, Training RMSE=0.562, Testing RMSE=0.795\n",
      "\n",
      "size of training:(5,)\n",
      "size of testing:(45,) \n",
      "proportion=0.1, degree=3, Training RMSE=0.751, Testing RMSE=0.713\n",
      "\n",
      "size of training:(5,)\n",
      "size of testing:(45,) \n",
      "proportion=0.1, degree=7, Training RMSE=3.429, Testing RMSE=5694.477\n",
      "\n",
      "size of training:(5,)\n",
      "size of testing:(45,) \n",
      "proportion=0.1, degree=12, Training RMSE=0.333, Testing RMSE=20.697\n",
      "\n",
      "\n",
      "\n"
     ]
    }
   ],
   "source": [
    "def train_test_split_demo(x, y, degree, ratio, seed):\n",
    "    \"\"\"polynomial regression with different split ratios and different degrees.\"\"\"\n",
    "    # ***************************************************\n",
    "    # split the data, and return train and test data: TODO\n",
    "    x_tr, y_tr, x_te, y_te = split_data(x, y, ratio, seed)\n",
    "    print(\"size of training:{train}\\nsize of testing:{test} \".format(\n",
    "          train=np.shape(x_tr), test=np.shape(x_te)))\n",
    "    # ***************************************************\n",
    "    \n",
    "    # ***************************************************\n",
    "    # form train and test data with polynomial basis function: TODO\n",
    "    phi_tr = build_poly(x_tr, degree)\n",
    "    phi_te = build_poly(x_te, degree)\n",
    "    # ***************************************************\n",
    "    \n",
    "    # ***************************************************\n",
    "    # calcualte weight through least square.: TODO\n",
    "    mse_tr, weight_tr = least_squares(y_tr, phi_tr)\n",
    "    # ***************************************************\n",
    "\n",
    "    # ***************************************************\n",
    "    # calculate RMSE for train and test data,\n",
    "    # and store them in rmse_tr and rmse_te respectively: TODO\n",
    "    rmse_tr = np.sqrt(2*mse_tr)\n",
    "    mse_te = compute_loss(y_te, phi_te, weight_tr)\n",
    "    rmse_te = np.sqrt(2*mse_te)\n",
    "    # ***************************************************\n",
    "    print(\"proportion={p}, degree={d}, Training RMSE={tr:.3f}, Testing RMSE={te:.3f}\\n\".format(\n",
    "          p=ratio, d=degree, tr=rmse_tr, te=rmse_te))\n",
    "\n",
    "seed = 6\n",
    "degrees = [1, 3, 7, 12]\n",
    "split_ratios = [0.9, 0.5, 0.1]\n",
    "\n",
    "for split_ratio in split_ratios:\n",
    "    for degree in degrees:\n",
    "        train_test_split_demo(x, y, degree, split_ratio, seed)\n",
    "    print(\"\\n\")"
   ]
  },
  {
   "cell_type": "markdown",
   "metadata": {},
   "source": [
    "# Ridge Regression\n",
    "Please fill in the function below."
   ]
  },
  {
   "cell_type": "code",
   "execution_count": 125,
   "metadata": {
    "collapsed": true
   },
   "outputs": [],
   "source": [
    "def ridge_regression(y, tx, lamb):\n",
    "    \"\"\"implement ridge regression.\"\"\"\n",
    "    # ***************************************************\n",
    "    # INSERT YOUR CODE HERE\n",
    "    # ridge regression: TODO\n",
    "    # ***************************************************\n",
    "    raise NotImplementedError"
   ]
  },
  {
   "cell_type": "code",
   "execution_count": null,
   "metadata": {
    "collapsed": false
   },
   "outputs": [],
   "source": [
    "def ridge_regression_demo(x, y, degree, ratio, seed):\n",
    "    \"\"\"ridge regression demo.\"\"\"\n",
    "    # define parameter\n",
    "    lambdas = np.logspace(-3, 1, 10)    \n",
    "    # ***************************************************\n",
    "    # INSERT YOUR CODE HERE\n",
    "    # split the data, and return train and test data: TODO\n",
    "    # ***************************************************\n",
    "    raise NotImplementedError\n",
    "    # ***************************************************\n",
    "    # INSERT YOUR CODE HERE\n",
    "    # form train and test data with polynomial basis function: TODO\n",
    "    # ***************************************************\n",
    "    raise NotImplementedError\n",
    "    # ***************************************************\n",
    "    # INSERT YOUR CODE HERE\n",
    "    # ridge regression with different lambda: TODO\n",
    "    # ***************************************************\n",
    "    raise NotImplementedError\n",
    "\n",
    "seed = 6\n",
    "degree = 7\n",
    "split_ratio = 0.5\n",
    "ridge_regression_demo(x, y, degree, split_ratio, seed)"
   ]
  },
  {
   "cell_type": "code",
   "execution_count": null,
   "metadata": {
    "collapsed": true
   },
   "outputs": [],
   "source": []
  }
 ],
 "metadata": {
  "anaconda-cloud": {},
  "kernelspec": {
   "display_name": "Python [Root]",
   "language": "python",
   "name": "Python [Root]"
  },
  "language_info": {
   "codemirror_mode": {
    "name": "ipython",
    "version": 3
   },
   "file_extension": ".py",
   "mimetype": "text/x-python",
   "name": "python",
   "nbconvert_exporter": "python",
   "pygments_lexer": "ipython3",
   "version": "3.5.2"
  }
 },
 "nbformat": 4,
 "nbformat_minor": 0
}
